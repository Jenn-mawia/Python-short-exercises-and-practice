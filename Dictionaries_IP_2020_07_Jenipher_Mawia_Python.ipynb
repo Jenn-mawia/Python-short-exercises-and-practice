{
  "nbformat": 4,
  "nbformat_minor": 0,
  "metadata": {
    "colab": {
      "name": "Dictionaries_IP_2020_07_Jenipher_Mawia_Python",
      "provenance": [],
      "toc_visible": true,
      "authorship_tag": "ABX9TyPrudYsuwKPDaO/APU4DLjI",
      "include_colab_link": true
    },
    "kernelspec": {
      "name": "python3",
      "display_name": "Python 3"
    }
  },
  "cells": [
    {
      "cell_type": "markdown",
      "metadata": {
        "id": "view-in-github",
        "colab_type": "text"
      },
      "source": [
        "<a href=\"https://colab.research.google.com/github/Jenn-mawia/Python-short-exercises-and-practice/blob/master/Dictionaries_IP_2020_07_Jenipher_Mawia_Python.ipynb\" target=\"_parent\"><img src=\"https://colab.research.google.com/assets/colab-badge.svg\" alt=\"Open In Colab\"/></a>"
      ]
    },
    {
      "cell_type": "markdown",
      "metadata": {
        "id": "SRv-_hr0Bbop",
        "colab_type": "text"
      },
      "source": [
        "# Define the dictionary and print its contents"
      ]
    },
    {
      "cell_type": "code",
      "metadata": {
        "id": "PJeIkh_ZBc2s",
        "colab_type": "code",
        "colab": {
          "base_uri": "https://localhost:8080/",
          "height": 54
        },
        "outputId": "2a0c177d-5687-4459-8286-57d41fa1cd87"
      },
      "source": [
        "# define dictionary\n",
        "contact_book = {\n",
        "    'Parul' : 'parul@moringa.org',\n",
        "    'Thomas' : 'thomas@moringa.org',\n",
        "    'Ashley' : 'ashley@moringa.org',\n",
        "    'Kellen' : 'kellen@moringa.org',\n",
        "    'June' : 'june@moringa.org',\n",
        "    'Joseph' : 'joe@moringa.org',\n",
        "    'Lillian' : 'lillian@moringa.org',\n",
        "    'Arnold' : 'arnold@moringa.org'\n",
        "}\n",
        "# print contents of dictionary\n",
        "print(contact_book)"
      ],
      "execution_count": null,
      "outputs": [
        {
          "output_type": "stream",
          "text": [
            "{'Parul': 'parul@moringa.org', 'Thomas': 'thomas@moringa.org', 'Ashley': 'ashley@moringa.org', 'Kellen': 'kellen@moringa.org', 'June': 'june@moringa.org', 'Joseph': 'joe@moringa.org', 'Lillian': 'lillian@moringa.org', 'Arnold': 'arnold@moringa.org'}\n"
          ],
          "name": "stdout"
        }
      ]
    },
    {
      "cell_type": "markdown",
      "metadata": {
        "id": "DnsJU2hM-fQv",
        "colab_type": "text"
      },
      "source": [
        "# Delete a contact from the dictionary when the user specifies the its key "
      ]
    },
    {
      "cell_type": "code",
      "metadata": {
        "id": "xPvlQQsQ_9S9",
        "colab_type": "code",
        "colab": {
          "base_uri": "https://localhost:8080/",
          "height": 72
        },
        "outputId": "1ed1a500-c1ad-419b-a202-6ac5ef30f86e"
      },
      "source": [
        "# request user for the key to delete contact\n",
        "delete = input(\"Enter key to delete contact: \")\n",
        "# conditional statement for when key entered is in the dictionary\n",
        "if delete in contact_book:\n",
        "    del contact_book[delete]\n",
        "    print(contact_book)\n",
        "else: \n",
        "  print(\"You have entered a key that does not exist in the dictionary\")\n",
        "\n"
      ],
      "execution_count": null,
      "outputs": [
        {
          "output_type": "stream",
          "text": [
            "Enter key to delete contact: Arnold\n",
            "{'Parul': 'parul@moringa.org', 'Thomas': 'thomas@moringa.org', 'Ashley': 'ashley@moringa.org', 'Kellen': 'kellen@moringa.org', 'June': 'june@moringa.org', 'Joseph': 'joe@moringa.org', 'Lillian': 'lillian@moringa.org'}\n"
          ],
          "name": "stdout"
        }
      ]
    },
    {
      "cell_type": "markdown",
      "metadata": {
        "id": "Vfek1ctjAA4A",
        "colab_type": "text"
      },
      "source": [
        "# Print out the first 2 contacts."
      ]
    },
    {
      "cell_type": "code",
      "metadata": {
        "id": "d8oW4_0BAJZB",
        "colab_type": "code",
        "colab": {
          "base_uri": "https://localhost:8080/",
          "height": 34
        },
        "outputId": "5b5f678d-fb6c-46a7-c6a0-030baf7a7459"
      },
      "source": [
        "# initialize the count value to n=2\n",
        "n = 2\n",
        "# extract and store the first 2 key:value pair into a new dictionary\n",
        "first2 = dict(list(contact_book.items())[0:n])\n",
        "# displays first 2 contacts\n",
        "print(first2)"
      ],
      "execution_count": null,
      "outputs": [
        {
          "output_type": "stream",
          "text": [
            "{'Parul': 'parul@moringa.org', 'Thomas': 'thomas@moringa.org'}\n"
          ],
          "name": "stdout"
        }
      ]
    },
    {
      "cell_type": "markdown",
      "metadata": {
        "id": "m0PvWDrXAKPI",
        "colab_type": "text"
      },
      "source": [
        "# Display the total no. of contacts left in the dictionary."
      ]
    },
    {
      "cell_type": "code",
      "metadata": {
        "id": "3XnvYsJyBG6G",
        "colab_type": "code",
        "colab": {
          "base_uri": "https://localhost:8080/",
          "height": 34
        },
        "outputId": "2f1777fd-8415-458b-a068-23257d4752ca"
      },
      "source": [
        "# displays the total number of contacts left in the dictionary after deleting\n",
        "print(len(contact_book))"
      ],
      "execution_count": null,
      "outputs": [
        {
          "output_type": "stream",
          "text": [
            "7\n"
          ],
          "name": "stdout"
        }
      ]
    },
    {
      "cell_type": "markdown",
      "metadata": {
        "id": "k2ELUUoQBHrx",
        "colab_type": "text"
      },
      "source": [
        "# Add 2 new contacts in the dictionary. "
      ]
    },
    {
      "cell_type": "code",
      "metadata": {
        "id": "1sGaAK1fBNvj",
        "colab_type": "code",
        "colab": {}
      },
      "source": [
        "# add 2 new contacts onto our initial dictionary\n",
        "contact_book[\"Jennifer\"] = \"jenniemc@gmail.com\"\n",
        "contact_book[\"Lizz\"] = \"lizz@gmail.com\""
      ],
      "execution_count": null,
      "outputs": []
    },
    {
      "cell_type": "markdown",
      "metadata": {
        "id": "nHFmaG6DBOnD",
        "colab_type": "text"
      },
      "source": [
        "# Print out all the contacts."
      ]
    },
    {
      "cell_type": "code",
      "metadata": {
        "id": "PiO7N2naBYqX",
        "colab_type": "code",
        "colab": {
          "base_uri": "https://localhost:8080/",
          "height": 54
        },
        "outputId": "f7e62a76-ba69-49c2-ff56-02fbebbabd47"
      },
      "source": [
        "# displays the updated version of initial contact_book\n",
        "print(contact_book)"
      ],
      "execution_count": null,
      "outputs": [
        {
          "output_type": "stream",
          "text": [
            "{'Parul': 'parul@moringa.org', 'Thomas': 'thomas@moringa.org', 'Ashley': 'ashley@moringa.org', 'Kellen': 'kellen@moringa.org', 'June': 'june@moringa.org', 'Joseph': 'joe@moringa.org', 'Lillian': 'lillian@moringa.org', 'Jennifer': 'jenniemc@gmail.com', 'Lizz': 'lizz@gmail.com'}\n"
          ],
          "name": "stdout"
        }
      ]
    },
    {
      "cell_type": "code",
      "metadata": {
        "id": "cRq6mMsiDB7c",
        "colab_type": "code",
        "colab": {}
      },
      "source": [
        ""
      ],
      "execution_count": null,
      "outputs": []
    }
  ]
}