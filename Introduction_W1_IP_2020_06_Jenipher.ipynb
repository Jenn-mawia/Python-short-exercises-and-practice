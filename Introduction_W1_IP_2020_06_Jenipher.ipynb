{
  "nbformat": 4,
  "nbformat_minor": 0,
  "metadata": {
    "colab": {
      "name": "Introduction_W1_IP_2020_06_Jenipher",
      "provenance": [],
      "toc_visible": true,
      "authorship_tag": "ABX9TyMx+j6GYGMiSWLW9ExJUHas",
      "include_colab_link": true
    },
    "kernelspec": {
      "name": "python3",
      "display_name": "Python 3"
    }
  },
  "cells": [
    {
      "cell_type": "markdown",
      "metadata": {
        "id": "view-in-github",
        "colab_type": "text"
      },
      "source": [
        "<a href=\"https://colab.research.google.com/github/Jenn-mawia/Python-short-exercises-and-practice/blob/master/Introduction_W1_IP_2020_06_Jenipher.ipynb\" target=\"_parent\"><img src=\"https://colab.research.google.com/assets/colab-badge.svg\" alt=\"Open In Colab\"/></a>"
      ]
    },
    {
      "cell_type": "markdown",
      "metadata": {
        "id": "1AMOQ_Nh7OW6",
        "colab_type": "text"
      },
      "source": [
        "# 1. Take in two values both in pounds and convert to kilograms\n"
      ]
    },
    {
      "cell_type": "code",
      "metadata": {
        "id": "txNifsIe7TzZ",
        "colab_type": "code",
        "colab": {
          "base_uri": "https://localhost:8080/",
          "height": 85
        },
        "outputId": "adf72452-9314-4f6b-8a6b-0078883db8f8"
      },
      "source": [
        "# asks the user for two values both in Lbs and cast the value \n",
        "# to have integer data type\n",
        "a = int(input(\"Enter your first value(in pounds): \"))\n",
        "b = int(input(\"Enter your second value(in pounds): \"))\n",
        "\n",
        "# this code snippet converts the values entered to Kgs \n",
        "# performs arithmetic operation(multiply) \n",
        "# reassigns the values to new variables\n",
        "a1 = a * 0.45\n",
        "b1 = b * 0.45\n",
        "\n",
        "# displays the values entered in Kgs\n",
        "print(f\"Your first value is: {a1} kilograms\")\n",
        "print(f\"Your second value is: {b1} kilograms\")"
      ],
      "execution_count": null,
      "outputs": [
        {
          "output_type": "stream",
          "text": [
            "Enter your first value(in pounds): 450\n",
            "Enter your second value(in pounds): 160\n",
            "Your first value is: 202.5 kilograms\n",
            "Your second value is: 72.0 kilograms\n"
          ],
          "name": "stdout"
        }
      ]
    },
    {
      "cell_type": "markdown",
      "metadata": {
        "id": "EwXqCCKS7dzX",
        "colab_type": "text"
      },
      "source": [
        "# 2. Perform the sum of both the values "
      ]
    },
    {
      "cell_type": "code",
      "metadata": {
        "id": "nyBlbmmK7jvV",
        "colab_type": "code",
        "colab": {
          "base_uri": "https://localhost:8080/",
          "height": 34
        },
        "outputId": "f72c1d3e-d93c-4b41-a067-2fb434b088f5"
      },
      "source": [
        "# sums the values entered by user and reassigns the answer to variable sum\n",
        "# display the result of the operation\n",
        "sum = a + b\n",
        "print(f\"The sum of your values is: {sum}\")"
      ],
      "execution_count": null,
      "outputs": [
        {
          "output_type": "stream",
          "text": [
            "The sum of your values is: 145.0\n"
          ],
          "name": "stdout"
        }
      ]
    },
    {
      "cell_type": "markdown",
      "metadata": {
        "id": "NMrgDyHd8GNO",
        "colab_type": "text"
      },
      "source": [
        "# 3. Perform the average of the values"
      ]
    },
    {
      "cell_type": "code",
      "metadata": {
        "id": "6XorSQYO8Njd",
        "colab_type": "code",
        "colab": {
          "base_uri": "https://localhost:8080/",
          "height": 34
        },
        "outputId": "e8cf877d-e17b-4f91-f9b8-fd311c1cb400"
      },
      "source": [
        "# averages the values intially entered, reassigns the answer to variable average\n",
        "# prints out the result\n",
        "average = (a+b)/2\n",
        "print(f\"The average of the two values is: {average}\")"
      ],
      "execution_count": null,
      "outputs": [
        {
          "output_type": "stream",
          "text": [
            "The average of the two values is: 72.5\n"
          ],
          "name": "stdout"
        }
      ]
    },
    {
      "cell_type": "markdown",
      "metadata": {
        "id": "ua5XXZ_98T4_",
        "colab_type": "text"
      },
      "source": [
        "# 4. The difference between both values"
      ]
    },
    {
      "cell_type": "code",
      "metadata": {
        "id": "dSIYEsz-8ZKr",
        "colab_type": "code",
        "colab": {
          "base_uri": "https://localhost:8080/",
          "height": 34
        },
        "outputId": "d1a74121-0e1a-4fa4-da2f-c56dec812227"
      },
      "source": [
        "# performs arithmetic operation(subtracts the two values) to find difference \n",
        "# displays the result\n",
        "difference = (a-b)\n",
        "print(f\"The difference between the two values is: {difference}\")"
      ],
      "execution_count": null,
      "outputs": [
        {
          "output_type": "stream",
          "text": [
            "The difference between the two values is: 115.0\n"
          ],
          "name": "stdout"
        }
      ]
    },
    {
      "cell_type": "markdown",
      "metadata": {
        "id": "X2VeyBfW8dOw",
        "colab_type": "text"
      },
      "source": [
        "# 5. The quotient when one value is divided by the other"
      ]
    },
    {
      "cell_type": "code",
      "metadata": {
        "id": "5gWdt-l58bjW",
        "colab_type": "code",
        "colab": {
          "base_uri": "https://localhost:8080/",
          "height": 51
        },
        "outputId": "3bdf2054-4780-495b-9ad3-3f37e5f44103"
      },
      "source": [
        "# finds the quotient when the first value is divided by second value\n",
        "# prints out the result\n",
        "quot1 = a//b\n",
        "print(f\"The quotient of a/b is: {quot1}\")\n",
        "\n",
        "# finds the quotient when the second value is divided by first value\n",
        "# prints out the result\n",
        "quot2 = b//a\n",
        "print(f\"The quotient of b//a is: {quot2}\")"
      ],
      "execution_count": null,
      "outputs": [
        {
          "output_type": "stream",
          "text": [
            "The quotient of a/b is: 8.0\n",
            "The quotient of b//a is: 0.0\n"
          ],
          "name": "stdout"
        }
      ]
    },
    {
      "cell_type": "markdown",
      "metadata": {
        "id": "n9tBu7te8uKO",
        "colab_type": "text"
      },
      "source": [
        "# 6. Determine whether value is odd or even"
      ]
    },
    {
      "cell_type": "code",
      "metadata": {
        "id": "lbs3TzYu8yow",
        "colab_type": "code",
        "colab": {
          "base_uri": "https://localhost:8080/",
          "height": 51
        },
        "outputId": "3a02ebd8-1184-4c16-fc46-6306186347ec"
      },
      "source": [
        "# determines the modulus (remainder) of the values entered when divided by 2\n",
        "a2 = a % 2\n",
        "b2 = b % 2\n",
        "\n",
        "# if statement to display \"odd\" or \"even\" \n",
        "# when the modulus is either 0 or 1 for the first value\n",
        "if a2 == 0:\n",
        "    print(\"Your first value \" +str(a)+ \" is even\")\n",
        "elif a2 == 1:\n",
        "    print(\"Your first value \" + str(a)+ \" is odd\")\n",
        "\n",
        "# if statement to display \"odd\" or \"even\" \n",
        "# when the modulus is either 0 or 1 for the first value\n",
        "if  b2 == 0:\n",
        "    print(\"Your second value \" +str(b)+ \" is even\")\n",
        "elif b2 >= 1:\n",
        "    print(\"Your second value \" + str(b)+ \" is odd\")"
      ],
      "execution_count": null,
      "outputs": [
        {
          "output_type": "stream",
          "text": [
            "Your first value 450 is even\n",
            "Your second value 160 is even\n"
          ],
          "name": "stdout"
        }
      ]
    },
    {
      "cell_type": "code",
      "metadata": {
        "id": "pg1vG_VV7b0B",
        "colab_type": "code",
        "colab": {}
      },
      "source": [
        ""
      ],
      "execution_count": null,
      "outputs": []
    }
  ]
}